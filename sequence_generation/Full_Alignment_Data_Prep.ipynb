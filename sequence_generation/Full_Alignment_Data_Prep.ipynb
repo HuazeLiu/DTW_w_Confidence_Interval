{
 "cells": [
  {
   "cell_type": "markdown",
   "metadata": {},
   "source": [
    "## Data preparation of four scenarios for the full alignment case"
   ]
  },
  {
   "cell_type": "code",
   "execution_count": 3,
   "metadata": {},
   "outputs": [],
   "source": [
    "import numpy as np\n",
    "import librosa as lb\n",
    "import soundfile as sf\n",
    "from pathlib import Path\n",
    "import matplotlib.pyplot as plt"
   ]
  },
  {
   "cell_type": "markdown",
   "metadata": {
    "vscode": {
     "languageId": "plaintext"
    }
   },
   "source": [
    "Before we generate 4 different scenarios, we first define a function `splice_audio`."
   ]
  },
  {
   "cell_type": "code",
   "execution_count": 4,
   "metadata": {},
   "outputs": [],
   "source": [
    "def splice_audio(audio, start_sec, end_sec, sr):\n",
    "    return audio[int(start_sec * sr): int(end_sec * sr)]"
   ]
  },
  {
   "cell_type": "markdown",
   "metadata": {},
   "source": [
    "Define the pathway"
   ]
  },
  {
   "cell_type": "code",
   "execution_count": 5,
   "metadata": {},
   "outputs": [],
   "source": [
    "op17no4_1981_path = Path('/Users/huazeliu/Desktop/E207PROJECT/train_data/Chopin_Op017No4_Ashkenazy-1981_pid9058-13.wav')\n",
    "op17no4_1995_path = Path('/Users/huazeliu/Desktop/E207PROJECT/train_data/Chopin_Op017No4_Block-1995_pid9064-04.wav')\n",
    "op63no3_path = Path('/Users/huazeliu/Desktop/E207PROJECT/train_data/Chopin_Op063No3_Morozova-2008_pid610633-04.wav')\n"
   ]
  },
  {
   "cell_type": "markdown",
   "metadata": {},
   "source": [
    "Load the audio file with `librosa`"
   ]
  },
  {
   "cell_type": "code",
   "execution_count": 6,
   "metadata": {},
   "outputs": [
    {
     "ename": "AttributeError",
     "evalue": "module 'numba' has no attribute 'core'",
     "output_type": "error",
     "traceback": [
      "\u001b[0;31m---------------------------------------------------------------------------\u001b[0m",
      "\u001b[0;31mAttributeError\u001b[0m                            Traceback (most recent call last)",
      "Cell \u001b[0;32mIn[6], line 1\u001b[0m\n\u001b[0;32m----> 1\u001b[0m op17no4_1981, sr_1 \u001b[38;5;241m=\u001b[39m lb\u001b[38;5;241m.\u001b[39mload(op17no4_1981_path)\n\u001b[1;32m      2\u001b[0m op17no4_1995, sr_2 \u001b[38;5;241m=\u001b[39m lb\u001b[38;5;241m.\u001b[39mload(op17no4_1995_path)\n\u001b[1;32m      3\u001b[0m op63no3_2008, sr_3 \u001b[38;5;241m=\u001b[39m lb\u001b[38;5;241m.\u001b[39mload(op63no3_path)\n",
      "File \u001b[0;32m/opt/anaconda3/envs/E207_Spr24/lib/python3.11/site-packages/lazy_loader/__init__.py:83\u001b[0m, in \u001b[0;36mattach.<locals>.__getattr__\u001b[0;34m(name)\u001b[0m\n\u001b[1;32m     81\u001b[0m submod_path \u001b[38;5;241m=\u001b[39m \u001b[38;5;124mf\u001b[39m\u001b[38;5;124m\"\u001b[39m\u001b[38;5;132;01m{\u001b[39;00mpackage_name\u001b[38;5;132;01m}\u001b[39;00m\u001b[38;5;124m.\u001b[39m\u001b[38;5;132;01m{\u001b[39;00mattr_to_modules[name]\u001b[38;5;132;01m}\u001b[39;00m\u001b[38;5;124m\"\u001b[39m\n\u001b[1;32m     82\u001b[0m submod \u001b[38;5;241m=\u001b[39m importlib\u001b[38;5;241m.\u001b[39mimport_module(submod_path)\n\u001b[0;32m---> 83\u001b[0m attr \u001b[38;5;241m=\u001b[39m \u001b[38;5;28mgetattr\u001b[39m(submod, name)\n\u001b[1;32m     85\u001b[0m \u001b[38;5;66;03m# If the attribute lives in a file (module) with the same\u001b[39;00m\n\u001b[1;32m     86\u001b[0m \u001b[38;5;66;03m# name as the attribute, ensure that the attribute and *not*\u001b[39;00m\n\u001b[1;32m     87\u001b[0m \u001b[38;5;66;03m# the module is accessible on the package.\u001b[39;00m\n\u001b[1;32m     88\u001b[0m \u001b[38;5;28;01mif\u001b[39;00m name \u001b[38;5;241m==\u001b[39m attr_to_modules[name]:\n",
      "File \u001b[0;32m/opt/anaconda3/envs/E207_Spr24/lib/python3.11/site-packages/lazy_loader/__init__.py:82\u001b[0m, in \u001b[0;36mattach.<locals>.__getattr__\u001b[0;34m(name)\u001b[0m\n\u001b[1;32m     80\u001b[0m \u001b[38;5;28;01melif\u001b[39;00m name \u001b[38;5;129;01min\u001b[39;00m attr_to_modules:\n\u001b[1;32m     81\u001b[0m     submod_path \u001b[38;5;241m=\u001b[39m \u001b[38;5;124mf\u001b[39m\u001b[38;5;124m\"\u001b[39m\u001b[38;5;132;01m{\u001b[39;00mpackage_name\u001b[38;5;132;01m}\u001b[39;00m\u001b[38;5;124m.\u001b[39m\u001b[38;5;132;01m{\u001b[39;00mattr_to_modules[name]\u001b[38;5;132;01m}\u001b[39;00m\u001b[38;5;124m\"\u001b[39m\n\u001b[0;32m---> 82\u001b[0m     submod \u001b[38;5;241m=\u001b[39m importlib\u001b[38;5;241m.\u001b[39mimport_module(submod_path)\n\u001b[1;32m     83\u001b[0m     attr \u001b[38;5;241m=\u001b[39m \u001b[38;5;28mgetattr\u001b[39m(submod, name)\n\u001b[1;32m     85\u001b[0m     \u001b[38;5;66;03m# If the attribute lives in a file (module) with the same\u001b[39;00m\n\u001b[1;32m     86\u001b[0m     \u001b[38;5;66;03m# name as the attribute, ensure that the attribute and *not*\u001b[39;00m\n\u001b[1;32m     87\u001b[0m     \u001b[38;5;66;03m# the module is accessible on the package.\u001b[39;00m\n",
      "File \u001b[0;32m/opt/anaconda3/envs/E207_Spr24/lib/python3.11/importlib/__init__.py:126\u001b[0m, in \u001b[0;36mimport_module\u001b[0;34m(name, package)\u001b[0m\n\u001b[1;32m    124\u001b[0m             \u001b[38;5;28;01mbreak\u001b[39;00m\n\u001b[1;32m    125\u001b[0m         level \u001b[38;5;241m+\u001b[39m\u001b[38;5;241m=\u001b[39m \u001b[38;5;241m1\u001b[39m\n\u001b[0;32m--> 126\u001b[0m \u001b[38;5;28;01mreturn\u001b[39;00m _bootstrap\u001b[38;5;241m.\u001b[39m_gcd_import(name[level:], package, level)\n",
      "File \u001b[0;32m<frozen importlib._bootstrap>:1204\u001b[0m, in \u001b[0;36m_gcd_import\u001b[0;34m(name, package, level)\u001b[0m\n",
      "File \u001b[0;32m<frozen importlib._bootstrap>:1176\u001b[0m, in \u001b[0;36m_find_and_load\u001b[0;34m(name, import_)\u001b[0m\n",
      "File \u001b[0;32m<frozen importlib._bootstrap>:1147\u001b[0m, in \u001b[0;36m_find_and_load_unlocked\u001b[0;34m(name, import_)\u001b[0m\n",
      "File \u001b[0;32m<frozen importlib._bootstrap>:690\u001b[0m, in \u001b[0;36m_load_unlocked\u001b[0;34m(spec)\u001b[0m\n",
      "File \u001b[0;32m<frozen importlib._bootstrap_external>:940\u001b[0m, in \u001b[0;36mexec_module\u001b[0;34m(self, module)\u001b[0m\n",
      "File \u001b[0;32m<frozen importlib._bootstrap>:241\u001b[0m, in \u001b[0;36m_call_with_frames_removed\u001b[0;34m(f, *args, **kwds)\u001b[0m\n",
      "File \u001b[0;32m/opt/anaconda3/envs/E207_Spr24/lib/python3.11/site-packages/librosa/core/audio.py:1152\u001b[0m\n\u001b[1;32m   1148\u001b[0m     \u001b[38;5;28;01melse\u001b[39;00m:\n\u001b[1;32m   1149\u001b[0m         \u001b[38;5;28;01mreturn\u001b[39;00m np\u001b[38;5;241m.\u001b[39msign(x0) \u001b[38;5;241m!=\u001b[39m np\u001b[38;5;241m.\u001b[39msign(x1)  \u001b[38;5;66;03m# type: ignore\u001b[39;00m\n\u001b[0;32m-> 1152\u001b[0m \u001b[38;5;129m@guvectorize\u001b[39m(\n\u001b[1;32m   1153\u001b[0m     [\n\u001b[1;32m   1154\u001b[0m         \u001b[38;5;124m\"\u001b[39m\u001b[38;5;124mvoid(float32[:], float32, bool_, bool_[:])\u001b[39m\u001b[38;5;124m\"\u001b[39m,\n\u001b[1;32m   1155\u001b[0m         \u001b[38;5;124m\"\u001b[39m\u001b[38;5;124mvoid(float64[:], float64, bool_, bool_[:])\u001b[39m\u001b[38;5;124m\"\u001b[39m,\n\u001b[1;32m   1156\u001b[0m     ],\n\u001b[1;32m   1157\u001b[0m     \u001b[38;5;124m\"\u001b[39m\u001b[38;5;124m(n),(),()->(n)\u001b[39m\u001b[38;5;124m\"\u001b[39m,\n\u001b[1;32m   1158\u001b[0m     cache\u001b[38;5;241m=\u001b[39m\u001b[38;5;28;01mTrue\u001b[39;00m,\n\u001b[1;32m   1159\u001b[0m     nopython\u001b[38;5;241m=\u001b[39m\u001b[38;5;28;01mTrue\u001b[39;00m,\n\u001b[1;32m   1160\u001b[0m )  \u001b[38;5;66;03m# type: ignore\u001b[39;00m\n\u001b[1;32m   1161\u001b[0m \u001b[38;5;28;01mdef\u001b[39;00m \u001b[38;5;21m_zc_wrapper\u001b[39m(\n\u001b[1;32m   1162\u001b[0m     x: np\u001b[38;5;241m.\u001b[39mndarray,\n\u001b[1;32m   1163\u001b[0m     threshold: \u001b[38;5;28mfloat\u001b[39m,\n\u001b[1;32m   1164\u001b[0m     zero_pos: \u001b[38;5;28mbool\u001b[39m,\n\u001b[1;32m   1165\u001b[0m     y: np\u001b[38;5;241m.\u001b[39mndarray,\n\u001b[1;32m   1166\u001b[0m ) \u001b[38;5;241m-\u001b[39m\u001b[38;5;241m>\u001b[39m \u001b[38;5;28;01mNone\u001b[39;00m:  \u001b[38;5;66;03m# pragma: no cover\u001b[39;00m\n\u001b[1;32m   1167\u001b[0m \u001b[38;5;250m    \u001b[39m\u001b[38;5;124;03m\"\"\"Vectorized wrapper for zero crossing stencil\"\"\"\u001b[39;00m\n\u001b[1;32m   1168\u001b[0m     y[:] \u001b[38;5;241m=\u001b[39m _zc_stencil(x, threshold, zero_pos)\n",
      "File \u001b[0;32m/opt/anaconda3/envs/E207_Spr24/lib/python3.11/site-packages/numba/np/ufunc/decorators.py:203\u001b[0m, in \u001b[0;36mguvectorize.<locals>.wrap\u001b[0;34m(func)\u001b[0m\n\u001b[1;32m    201\u001b[0m guvec \u001b[38;5;241m=\u001b[39m GUVectorize(func, signature, \u001b[38;5;241m*\u001b[39m\u001b[38;5;241m*\u001b[39mkwargs)\n\u001b[1;32m    202\u001b[0m \u001b[38;5;28;01mfor\u001b[39;00m fty \u001b[38;5;129;01min\u001b[39;00m ftylist:\n\u001b[0;32m--> 203\u001b[0m     guvec\u001b[38;5;241m.\u001b[39madd(fty)\n\u001b[1;32m    204\u001b[0m \u001b[38;5;28;01mif\u001b[39;00m \u001b[38;5;28mlen\u001b[39m(ftylist) \u001b[38;5;241m>\u001b[39m \u001b[38;5;241m0\u001b[39m:\n\u001b[1;32m    205\u001b[0m     guvec\u001b[38;5;241m.\u001b[39mdisable_compile()\n",
      "File \u001b[0;32m/opt/anaconda3/envs/E207_Spr24/lib/python3.11/site-packages/numba/np/ufunc/gufunc.py:64\u001b[0m, in \u001b[0;36mGUFunc.add\u001b[0;34m(self, fty)\u001b[0m\n\u001b[1;32m     63\u001b[0m \u001b[38;5;28;01mdef\u001b[39;00m \u001b[38;5;21madd\u001b[39m(\u001b[38;5;28mself\u001b[39m, fty):\n\u001b[0;32m---> 64\u001b[0m     \u001b[38;5;28mself\u001b[39m\u001b[38;5;241m.\u001b[39mgufunc_builder\u001b[38;5;241m.\u001b[39madd(fty)\n",
      "File \u001b[0;32m/opt/anaconda3/envs/E207_Spr24/lib/python3.11/site-packages/numba/np/ufunc/ufuncbuilder.py:258\u001b[0m, in \u001b[0;36m_BaseUFuncBuilder.add\u001b[0;34m(self, sig)\u001b[0m\n\u001b[1;32m    256\u001b[0m \u001b[38;5;28;01melse\u001b[39;00m:\n\u001b[1;32m    257\u001b[0m     targetoptions \u001b[38;5;241m=\u001b[39m \u001b[38;5;28mself\u001b[39m\u001b[38;5;241m.\u001b[39mnb_func\u001b[38;5;241m.\u001b[39mtargetoptions\n\u001b[0;32m--> 258\u001b[0m cres, args, return_type \u001b[38;5;241m=\u001b[39m _compile_element_wise_function(\n\u001b[1;32m    259\u001b[0m     \u001b[38;5;28mself\u001b[39m\u001b[38;5;241m.\u001b[39mnb_func, targetoptions, sig)\n\u001b[1;32m    260\u001b[0m sig \u001b[38;5;241m=\u001b[39m \u001b[38;5;28mself\u001b[39m\u001b[38;5;241m.\u001b[39m_finalize_signature(cres, args, return_type)\n\u001b[1;32m    261\u001b[0m \u001b[38;5;28mself\u001b[39m\u001b[38;5;241m.\u001b[39m_sigs\u001b[38;5;241m.\u001b[39mappend(sig)\n",
      "File \u001b[0;32m/opt/anaconda3/envs/E207_Spr24/lib/python3.11/site-packages/numba/np/ufunc/ufuncbuilder.py:176\u001b[0m, in \u001b[0;36m_compile_element_wise_function\u001b[0;34m(nb_func, targetoptions, sig)\u001b[0m\n\u001b[1;32m    173\u001b[0m \u001b[38;5;28;01mdef\u001b[39;00m \u001b[38;5;21m_compile_element_wise_function\u001b[39m(nb_func, targetoptions, sig):\n\u001b[1;32m    174\u001b[0m     \u001b[38;5;66;03m# Do compilation\u001b[39;00m\n\u001b[1;32m    175\u001b[0m     \u001b[38;5;66;03m# Return CompileResult to test\u001b[39;00m\n\u001b[0;32m--> 176\u001b[0m     cres \u001b[38;5;241m=\u001b[39m nb_func\u001b[38;5;241m.\u001b[39mcompile(sig, \u001b[38;5;241m*\u001b[39m\u001b[38;5;241m*\u001b[39mtargetoptions)\n\u001b[1;32m    177\u001b[0m     args, return_type \u001b[38;5;241m=\u001b[39m sigutils\u001b[38;5;241m.\u001b[39mnormalize_signature(sig)\n\u001b[1;32m    178\u001b[0m     \u001b[38;5;28;01mreturn\u001b[39;00m cres, args, return_type\n",
      "File \u001b[0;32m/opt/anaconda3/envs/E207_Spr24/lib/python3.11/site-packages/numba/np/ufunc/ufuncbuilder.py:124\u001b[0m, in \u001b[0;36mUFuncDispatcher.compile\u001b[0;34m(self, sig, locals, **targetoptions)\u001b[0m\n\u001b[1;32m    119\u001b[0m \u001b[38;5;66;03m# Disable loop lifting\u001b[39;00m\n\u001b[1;32m    120\u001b[0m \u001b[38;5;66;03m# The feature requires a real\u001b[39;00m\n\u001b[1;32m    121\u001b[0m \u001b[38;5;66;03m#  python function\u001b[39;00m\n\u001b[1;32m    122\u001b[0m flags\u001b[38;5;241m.\u001b[39menable_looplift \u001b[38;5;241m=\u001b[39m \u001b[38;5;28;01mFalse\u001b[39;00m\n\u001b[0;32m--> 124\u001b[0m \u001b[38;5;28;01mreturn\u001b[39;00m \u001b[38;5;28mself\u001b[39m\u001b[38;5;241m.\u001b[39m_compile_core(sig, flags, \u001b[38;5;28mlocals\u001b[39m)\n",
      "File \u001b[0;32m/opt/anaconda3/envs/E207_Spr24/lib/python3.11/site-packages/numba/np/ufunc/ufuncbuilder.py:151\u001b[0m, in \u001b[0;36mUFuncDispatcher._compile_core\u001b[0;34m(self, sig, flags, locals)\u001b[0m\n\u001b[1;32m    148\u001b[0m \u001b[38;5;28;01mwith\u001b[39;00m targetconfig\u001b[38;5;241m.\u001b[39mConfigStack()\u001b[38;5;241m.\u001b[39menter(flags\u001b[38;5;241m.\u001b[39mcopy()):\n\u001b[1;32m    149\u001b[0m     \u001b[38;5;28;01mwith\u001b[39;00m store_overloads_on_success():\n\u001b[1;32m    150\u001b[0m         \u001b[38;5;66;03m# attempt look up of existing\u001b[39;00m\n\u001b[0;32m--> 151\u001b[0m         cres \u001b[38;5;241m=\u001b[39m \u001b[38;5;28mself\u001b[39m\u001b[38;5;241m.\u001b[39mcache\u001b[38;5;241m.\u001b[39mload_overload(sig, targetctx)\n\u001b[1;32m    152\u001b[0m         \u001b[38;5;28;01mif\u001b[39;00m cres \u001b[38;5;129;01mis\u001b[39;00m \u001b[38;5;129;01mnot\u001b[39;00m \u001b[38;5;28;01mNone\u001b[39;00m:\n\u001b[1;32m    153\u001b[0m             \u001b[38;5;28;01mreturn\u001b[39;00m cres\n",
      "File \u001b[0;32m/opt/anaconda3/envs/E207_Spr24/lib/python3.11/site-packages/numba/core/caching.py:633\u001b[0m, in \u001b[0;36mCache.load_overload\u001b[0;34m(self, sig, target_context)\u001b[0m\n\u001b[1;32m    628\u001b[0m \u001b[38;5;250m\u001b[39m\u001b[38;5;124;03m\"\"\"\u001b[39;00m\n\u001b[1;32m    629\u001b[0m \u001b[38;5;124;03mLoad and recreate the cached object for the given signature,\u001b[39;00m\n\u001b[1;32m    630\u001b[0m \u001b[38;5;124;03musing the *target_context*.\u001b[39;00m\n\u001b[1;32m    631\u001b[0m \u001b[38;5;124;03m\"\"\"\u001b[39;00m\n\u001b[1;32m    632\u001b[0m \u001b[38;5;66;03m# Refresh the context to ensure it is initialized\u001b[39;00m\n\u001b[0;32m--> 633\u001b[0m target_context\u001b[38;5;241m.\u001b[39mrefresh()\n\u001b[1;32m    634\u001b[0m \u001b[38;5;28;01mwith\u001b[39;00m \u001b[38;5;28mself\u001b[39m\u001b[38;5;241m.\u001b[39m_guard_against_spurious_io_errors():\n\u001b[1;32m    635\u001b[0m     \u001b[38;5;28;01mreturn\u001b[39;00m \u001b[38;5;28mself\u001b[39m\u001b[38;5;241m.\u001b[39m_load_overload(sig, target_context)\n",
      "File \u001b[0;32m/opt/anaconda3/envs/E207_Spr24/lib/python3.11/site-packages/numba/core/base.py:267\u001b[0m, in \u001b[0;36mBaseContext.refresh\u001b[0;34m(self)\u001b[0m\n\u001b[1;32m    262\u001b[0m \u001b[38;5;250m\u001b[39m\u001b[38;5;124;03m\"\"\"\u001b[39;00m\n\u001b[1;32m    263\u001b[0m \u001b[38;5;124;03mRefresh context with new declarations from known registries.\u001b[39;00m\n\u001b[1;32m    264\u001b[0m \u001b[38;5;124;03mUseful for third-party extensions.\u001b[39;00m\n\u001b[1;32m    265\u001b[0m \u001b[38;5;124;03m\"\"\"\u001b[39;00m\n\u001b[1;32m    266\u001b[0m \u001b[38;5;66;03m# load target specific registries\u001b[39;00m\n\u001b[0;32m--> 267\u001b[0m \u001b[38;5;28mself\u001b[39m\u001b[38;5;241m.\u001b[39mload_additional_registries()\n\u001b[1;32m    269\u001b[0m \u001b[38;5;66;03m# Populate the builtin registry, this has to happen after loading\u001b[39;00m\n\u001b[1;32m    270\u001b[0m \u001b[38;5;66;03m# additional registries as some of the \"additional\" registries write\u001b[39;00m\n\u001b[1;32m    271\u001b[0m \u001b[38;5;66;03m# their implementations into the builtin_registry and would be missed if\u001b[39;00m\n\u001b[1;32m    272\u001b[0m \u001b[38;5;66;03m# this ran first.\u001b[39;00m\n\u001b[1;32m    273\u001b[0m \u001b[38;5;28mself\u001b[39m\u001b[38;5;241m.\u001b[39minstall_registry(builtin_registry)\n",
      "File \u001b[0;32m/opt/anaconda3/envs/E207_Spr24/lib/python3.11/site-packages/numba/core/cpu.py:99\u001b[0m, in \u001b[0;36mCPUContext.load_additional_registries\u001b[0;34m(self)\u001b[0m\n\u001b[1;32m     96\u001b[0m \u001b[38;5;28mself\u001b[39m\u001b[38;5;241m.\u001b[39minstall_registry(jitclassimpl\u001b[38;5;241m.\u001b[39mclass_impl_registry)\n\u001b[1;32m     98\u001b[0m \u001b[38;5;66;03m# load 3rd party extensions\u001b[39;00m\n\u001b[0;32m---> 99\u001b[0m numba\u001b[38;5;241m.\u001b[39mcore\u001b[38;5;241m.\u001b[39mentrypoints\u001b[38;5;241m.\u001b[39minit_all()\n\u001b[1;32m    101\u001b[0m \u001b[38;5;66;03m# fix for #8940\u001b[39;00m\n\u001b[1;32m    102\u001b[0m \u001b[38;5;28;01mfrom\u001b[39;00m \u001b[38;5;21;01mnumba\u001b[39;00m\u001b[38;5;21;01m.\u001b[39;00m\u001b[38;5;21;01mnp\u001b[39;00m\u001b[38;5;21;01m.\u001b[39;00m\u001b[38;5;21;01munsafe\u001b[39;00m \u001b[38;5;28;01mimport\u001b[39;00m ndarray\n",
      "\u001b[0;31mAttributeError\u001b[0m: module 'numba' has no attribute 'core'"
     ]
    }
   ],
   "source": [
    "op17no4_1981, sr_1 = lb.load(op17no4_1981_path)\n",
    "op17no4_1995, sr_2 = lb.load(op17no4_1995_path)\n",
    "op63no3_2008, sr_3 = lb.load(op63no3_path)"
   ]
  },
  {
   "cell_type": "markdown",
   "metadata": {},
   "source": [
    "### Scenario I: Matching\n",
    "- In this case, we use `Op17No4_1981` and `Op17No4_1995`\n",
    "- In this case, we align two complete recordings of the same Mazurka"
   ]
  },
  {
   "cell_type": "markdown",
   "metadata": {},
   "source": [
    "if the sampling rates of Op17_1981 and Op17_1995 are not the same"
   ]
  },
  {
   "cell_type": "code",
   "execution_count": 6,
   "metadata": {},
   "outputs": [],
   "source": [
    "if sr_1 != sr_2:\n",
    "    op17no4_1995 = lb.resample(op17no4_1995, orig_sr=sr_2, target_sr=sr_1)"
   ]
  },
  {
   "cell_type": "code",
   "execution_count": 8,
   "metadata": {},
   "outputs": [],
   "source": [
    "sf.write('/Users/huazeliu/Desktop/E207PROJECT/Full_Alignment_Recordings/Scenario_1/full_align_matching_recording1.wav', op17no4_1981, sr_1)\n",
    "sf.write('/Users/huazeliu/Desktop/E207PROJECT/Full_Alignment_Recordings/Scenario_1/full_align_matching_recording2.wav', op17no4_1995, sr_1)"
   ]
  },
  {
   "cell_type": "markdown",
   "metadata": {},
   "source": [
    "### Scenario II: Non-matching\n",
    "- In this case, we use `Op17No4_1981` and `Op63No3_2008`\n",
    "- In this case, we align two complete recordings of different Mazurkas"
   ]
  },
  {
   "cell_type": "markdown",
   "metadata": {},
   "source": [
    "if the sampling rates of Op17_1981 and Op17_1995 are not the same"
   ]
  },
  {
   "cell_type": "code",
   "execution_count": 9,
   "metadata": {},
   "outputs": [],
   "source": [
    "if sr_1 != sr_3:\n",
    "    op63no3_2008 = librosa.resample(op63no3_2008, orig_sr=sr_3, target_sr=sr_1)"
   ]
  },
  {
   "cell_type": "code",
   "execution_count": 11,
   "metadata": {},
   "outputs": [],
   "source": [
    "sf.write('/Users/huazeliu/Desktop/E207PROJECT/Full_Alignment_Recordings/Scenario_2/full_align_non_matching_recording1.wav', op17no4_1981, sr_1)\n",
    "sf.write('/Users/huazeliu/Desktop/E207PROJECT/Full_Alignment_Recordings/Scenario_2/full_align_non_matching_recording2.wav', op63no3_2008, sr_1)"
   ]
  },
  {
   "cell_type": "markdown",
   "metadata": {},
   "source": [
    "### Scenario III: Matching with a mismatching region in the middle\n",
    "- In this case, we use `Op17No4_1981`, `Op17No4_1995` and `Op63No3_2008`\n",
    "- Recording A: `Op17No4_1981`\n",
    "- Recording B: `Op17No4_1995`, where a 30s chunk in the middle is spliced out and replaced with a 30s chunk from `Op63No3_2008`"
   ]
  },
  {
   "cell_type": "code",
   "execution_count": 12,
   "metadata": {},
   "outputs": [],
   "source": [
    "def add_chunk(chunk_sec, main_audio, chunk_audio, sr=22050):\n",
    "    half_len_main = len(main_audio)//2\n",
    "    half_len_chunk = len(chunk_audio)//2\n",
    "\n",
    "    # Calculate the start sample of the 30s chunk in the middle of main audio & chunk audio\n",
    "    start_main = half_len_main - (chunk_sec * sr // 2)\n",
    "    start_chunk = half_len_chunk - (chunk_sec * sr // 2)\n",
    "\n",
    "    # Splice out the 30s chunk from main audio and replace with a chunk from chunk audio\n",
    "    samples = chunk_sec * sr\n",
    "    replacement = chunk_audio[start_chunk : start_chunk+samples]\n",
    "    recording_b = np.concatenate([\n",
    "        main_audio[:start_main],\n",
    "        replacement,\n",
    "        main_audio[start_main+samples:]\n",
    "    ])\n",
    "\n",
    "    return recording_b"
   ]
  },
  {
   "cell_type": "markdown",
   "metadata": {},
   "source": [
    "Compute the Recording B"
   ]
  },
  {
   "cell_type": "code",
   "execution_count": 13,
   "metadata": {},
   "outputs": [],
   "source": [
    "recording_b = add_chunk(30, op17no4_1995, op63no3_2008)"
   ]
  },
  {
   "cell_type": "code",
   "execution_count": 14,
   "metadata": {},
   "outputs": [],
   "source": [
    "sf.write('/Users/huazeliu/Desktop/E207PROJECT/Full_Alignment_Recordings/Scenario_3/full_align_M_Mid_misM_recordingA.wav', op17no4_1981, sr_1)\n",
    "sf.write('/Users/huazeliu/Desktop/E207PROJECT/Full_Alignment_Recordings/Scenario_3/full_align_M_Mid_misM_recordingB.wav', recording_b, sr_2)"
   ]
  },
  {
   "cell_type": "markdown",
   "metadata": {},
   "source": [
    "### Scenario IV: Non-Matching with a matching region in the middle\n",
    "- In this case, we use `Op17No4_1981`, `Op17No4_1995` and `Op63No3_2008`\n",
    "- Recording A: `Op17No4_1981`\n",
    "- Recording B: `Op63No3_2008`, where a 30s chunk in the middle is spliced out and replaced with a 30s chunk from `Op17No4_1995`"
   ]
  },
  {
   "cell_type": "code",
   "execution_count": 15,
   "metadata": {},
   "outputs": [],
   "source": [
    "recording_b = add_chunk(30, op63no3_2008, op17no4_1995)"
   ]
  },
  {
   "cell_type": "code",
   "execution_count": 17,
   "metadata": {},
   "outputs": [],
   "source": [
    "sf.write('/Users/huazeliu/Desktop/E207PROJECT/Full_Alignment_Recordings/Scenario_4/full_align_NM_Mid_M_recordingA.wav', op17no4_1981, sr_1)\n",
    "sf.write('/Users/huazeliu/Desktop/E207PROJECT/Full_Alignment_Recordings/Scenario_4/full_align_NM_Mid_M_recordingB.wav', recording_b, sr_2)"
   ]
  },
  {
   "cell_type": "code",
   "execution_count": 29,
   "metadata": {},
   "outputs": [],
   "source": [
    "# plt.figure(figsize=(12, 6))\n",
    "# plt.plot(recording_b)\n",
    "# plt.show()"
   ]
  },
  {
   "cell_type": "code",
   "execution_count": 28,
   "metadata": {},
   "outputs": [],
   "source": [
    "# plt.figure(figsize=(12, 6))\n",
    "# plt.plot(op17no4_1981)\n",
    "# plt.show()"
   ]
  },
  {
   "cell_type": "code",
   "execution_count": null,
   "metadata": {},
   "outputs": [],
   "source": []
  }
 ],
 "metadata": {
  "kernelspec": {
   "display_name": "E207_Spr24",
   "language": "python",
   "name": "e207_spr24"
  },
  "language_info": {
   "codemirror_mode": {
    "name": "ipython",
    "version": 3
   },
   "file_extension": ".py",
   "mimetype": "text/x-python",
   "name": "python",
   "nbconvert_exporter": "python",
   "pygments_lexer": "ipython3",
   "version": "3.11.9"
  }
 },
 "nbformat": 4,
 "nbformat_minor": 4
}
